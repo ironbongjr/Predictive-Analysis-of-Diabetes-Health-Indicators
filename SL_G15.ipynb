{
  "nbformat": 4,
  "nbformat_minor": 0,
  "metadata": {
    "colab": {
      "provenance": [],
      "gpuType": "T4"
    },
    "kernelspec": {
      "name": "python3",
      "display_name": "Python 3"
    },
    "language_info": {
      "name": "python"
    },
    "accelerator": "GPU"
  },
  "cells": [
    {
      "cell_type": "code",
      "execution_count": 1,
      "metadata": {
        "id": "LbOSzaBzZ_tW"
      },
      "outputs": [],
      "source": [
        "import math\n",
        "import numpy as np\n",
        "import pandas as pd\n",
        "import time as time\n",
        "import matplotlib.pyplot as plt\n",
        "from tqdm import tqdm\n",
        "from dataclasses import dataclass\n",
        "from sklearn.model_selection import train_test_split\n",
        "import seaborn as sns\n",
        "from sklearn.preprocessing import StandardScaler\n",
        "from tensorflow import keras\n",
        "from keras import layers\n",
        "from sklearn.metrics import confusion_matrix, precision_score,recall_score,accuracy_score, f1_score,classification_report"
      ]
    },
    {
      "cell_type": "code",
      "source": [
        "df = pd.read_csv('/content/diabetes_binary_5050split_health_indicators_BRFSS2015.csv')"
      ],
      "metadata": {
        "id": "E2ZRTPM--Lcn"
      },
      "execution_count": 2,
      "outputs": []
    },
    {
      "cell_type": "code",
      "source": [
        "df.info()"
      ],
      "metadata": {
        "colab": {
          "base_uri": "https://localhost:8080/"
        },
        "id": "LkuYlN-zIM7u",
        "outputId": "dd9b64ca-359b-438e-f398-45478d65633b"
      },
      "execution_count": 3,
      "outputs": [
        {
          "output_type": "stream",
          "name": "stdout",
          "text": [
            "<class 'pandas.core.frame.DataFrame'>\n",
            "RangeIndex: 70692 entries, 0 to 70691\n",
            "Data columns (total 22 columns):\n",
            " #   Column                Non-Null Count  Dtype  \n",
            "---  ------                --------------  -----  \n",
            " 0   Diabetes_binary       70692 non-null  float64\n",
            " 1   HighBP                70692 non-null  float64\n",
            " 2   HighChol              70692 non-null  float64\n",
            " 3   CholCheck             70692 non-null  float64\n",
            " 4   BMI                   70692 non-null  float64\n",
            " 5   Smoker                70692 non-null  float64\n",
            " 6   Stroke                70692 non-null  float64\n",
            " 7   HeartDiseaseorAttack  70692 non-null  float64\n",
            " 8   PhysActivity          70692 non-null  float64\n",
            " 9   Fruits                70692 non-null  float64\n",
            " 10  Veggies               70692 non-null  float64\n",
            " 11  HvyAlcoholConsump     70692 non-null  float64\n",
            " 12  AnyHealthcare         70692 non-null  float64\n",
            " 13  NoDocbcCost           70692 non-null  float64\n",
            " 14  GenHlth               70692 non-null  float64\n",
            " 15  MentHlth              70692 non-null  float64\n",
            " 16  PhysHlth              70692 non-null  float64\n",
            " 17  DiffWalk              70692 non-null  float64\n",
            " 18  Sex                   70692 non-null  float64\n",
            " 19  Age                   70692 non-null  float64\n",
            " 20  Education             70692 non-null  float64\n",
            " 21  Income                70692 non-null  float64\n",
            "dtypes: float64(22)\n",
            "memory usage: 11.9 MB\n"
          ]
        }
      ]
    },
    {
      "cell_type": "code",
      "source": [
        "df.isnull().sum()"
      ],
      "metadata": {
        "colab": {
          "base_uri": "https://localhost:8080/"
        },
        "id": "9DEXVIIzIQYd",
        "outputId": "c1ac3435-b707-4095-9af0-a1cfcf4f854b"
      },
      "execution_count": 4,
      "outputs": [
        {
          "output_type": "execute_result",
          "data": {
            "text/plain": [
              "Diabetes_binary         0\n",
              "HighBP                  0\n",
              "HighChol                0\n",
              "CholCheck               0\n",
              "BMI                     0\n",
              "Smoker                  0\n",
              "Stroke                  0\n",
              "HeartDiseaseorAttack    0\n",
              "PhysActivity            0\n",
              "Fruits                  0\n",
              "Veggies                 0\n",
              "HvyAlcoholConsump       0\n",
              "AnyHealthcare           0\n",
              "NoDocbcCost             0\n",
              "GenHlth                 0\n",
              "MentHlth                0\n",
              "PhysHlth                0\n",
              "DiffWalk                0\n",
              "Sex                     0\n",
              "Age                     0\n",
              "Education               0\n",
              "Income                  0\n",
              "dtype: int64"
            ]
          },
          "metadata": {},
          "execution_count": 4
        }
      ]
    },
    {
      "cell_type": "code",
      "source": [
        "def train_cost(training_duration_hours):\n",
        "  #According to GCE Pricing\n",
        "  gpu_cost = 0.35\n",
        "  storage_cost = 0.020\n",
        "  compute_cost = 0.03398\n",
        "  storage = 78 #GB provided by Colab\n",
        "  training_duration_hours = (training_duration_hours/60)/60\n",
        "\n",
        "  total_cost = (storage_cost*storage) + (gpu_cost*training_duration_hours) + (compute_cost*training_duration_hours)\n",
        "  return total_cost"
      ],
      "metadata": {
        "id": "zRTkq6wuItkX"
      },
      "execution_count": 5,
      "outputs": []
    },
    {
      "cell_type": "markdown",
      "source": [
        "#EDA"
      ],
      "metadata": {
        "id": "L667XCFfb5QS"
      }
    },
    {
      "cell_type": "markdown",
      "source": [
        "####Feature Engeineering"
      ],
      "metadata": {
        "id": "YwTr6UzjcJMN"
      }
    },
    {
      "cell_type": "code",
      "source": [
        "print(\"rows in dataset: \",df.shape[0])\n",
        "print(\"duplicate rows: \",df.duplicated().sum())"
      ],
      "metadata": {
        "colab": {
          "base_uri": "https://localhost:8080/"
        },
        "id": "C7izpw67ISdm",
        "outputId": "c4ae18c0-8818-49b3-d67c-de5ff7aeece6"
      },
      "execution_count": 6,
      "outputs": [
        {
          "output_type": "stream",
          "name": "stdout",
          "text": [
            "rows in dataset:  70692\n",
            "duplicate rows:  1635\n"
          ]
        }
      ]
    },
    {
      "cell_type": "code",
      "source": [
        "print(\"rows in dataset: \",df.shape[0])\n",
        "print(\"duplicate rows: \",df.duplicated().sum())\n",
        "df = df.drop_duplicates()\n",
        "print(\"rows after dropping duplicates in  dataset: \",df.shape[0])"
      ],
      "metadata": {
        "colab": {
          "base_uri": "https://localhost:8080/"
        },
        "id": "YFSfJVHjIUjE",
        "outputId": "da5364bf-ce1d-4e7d-afd8-926969baeac9"
      },
      "execution_count": 7,
      "outputs": [
        {
          "output_type": "stream",
          "name": "stdout",
          "text": [
            "rows in dataset:  70692\n",
            "duplicate rows:  1635\n",
            "rows after dropping duplicates in  dataset:  69057\n"
          ]
        }
      ]
    },
    {
      "cell_type": "markdown",
      "source": [
        "\n",
        "```\n",
        "In the following cells we have implemented Jaccard Similarity Score.\n",
        "It helps us find the similairty score by dividing the intersection of 2 categorical columns by the union of those 2 columns\n",
        "```\n",
        "\n"
      ],
      "metadata": {
        "id": "W69H1A8kbXW4"
      }
    },
    {
      "cell_type": "code",
      "source": [
        "#Dropping continuous and multi-class variables to compute jaccard similarity score\n",
        "newdf = df.drop(df[['GenHlth','MentHlth','PhysHlth','Age','Education','Income']], axis=1)"
      ],
      "metadata": {
        "id": "lp83_RBUuXKT"
      },
      "execution_count": 8,
      "outputs": []
    },
    {
      "cell_type": "code",
      "source": [
        "def jaccard_similarity(column_a, column_b):\n",
        "    intersection = sum((column_a == 1) & (column_b == 1))\n",
        "    union = sum((column_a == 1) | (column_b == 1))\n",
        "    return intersection / union if union != 0 else 0"
      ],
      "metadata": {
        "id": "P3BrNHrgsGAF"
      },
      "execution_count": 9,
      "outputs": []
    },
    {
      "cell_type": "code",
      "source": [
        "cols = newdf.columns.tolist()\n",
        "threshold = 0.7 #a threshold of 0.7 means any columns with a similairty score of 0.7 or more will be printed by the loop\n",
        "for c1 in cols:\n",
        "    for c2 in cols:\n",
        "        if c1 != c2:\n",
        "            js = jaccard_similarity(newdf[c1], newdf[c2])\n",
        "            if js > threshold:\n",
        "                print(c1, c2) #we eliminated one of these columns based on the similarity score\n",
        "                print(js)"
      ],
      "metadata": {
        "colab": {
          "base_uri": "https://localhost:8080/"
        },
        "id": "rtUMuqxnsK8c",
        "outputId": "88f515b0-2dd3-450f-f591-ab963d8a8942"
      },
      "execution_count": 10,
      "outputs": [
        {
          "output_type": "stream",
          "name": "stdout",
          "text": [
            "CholCheck Veggies\n",
            "0.7684244241912471\n",
            "CholCheck AnyHealthcare\n",
            "0.9377464174001601\n",
            "Veggies CholCheck\n",
            "0.7684244241912471\n",
            "Veggies AnyHealthcare\n",
            "0.7596100278551532\n",
            "AnyHealthcare CholCheck\n",
            "0.9377464174001601\n",
            "AnyHealthcare Veggies\n",
            "0.7596100278551532\n"
          ]
        }
      ]
    },
    {
      "cell_type": "markdown",
      "source": [
        "\n",
        "\n",
        "```\n",
        "AnyHealthcare and CholCheck had a high similarity score with multiple variables hence they have been eliminated\n",
        "```\n",
        "\n"
      ],
      "metadata": {
        "id": "PGG1bN5Nc8n8"
      }
    },
    {
      "cell_type": "code",
      "source": [
        "newdf = df.drop(newdf[['AnyHealthcare','CholCheck']], axis=1)"
      ],
      "metadata": {
        "id": "JkSnPUZ5YYRd"
      },
      "execution_count": 11,
      "outputs": []
    },
    {
      "cell_type": "code",
      "source": [
        "newdf.head()"
      ],
      "metadata": {
        "colab": {
          "base_uri": "https://localhost:8080/",
          "height": 226
        },
        "id": "Yq1fAhf6RRQo",
        "outputId": "79a91e83-b11e-494a-d93a-2644e31901d2"
      },
      "execution_count": 12,
      "outputs": [
        {
          "output_type": "execute_result",
          "data": {
            "text/plain": [
              "   Diabetes_binary  HighBP  HighChol   BMI  Smoker  Stroke  \\\n",
              "0              0.0     1.0       0.0  26.0     0.0     0.0   \n",
              "1              0.0     1.0       1.0  26.0     1.0     1.0   \n",
              "2              0.0     0.0       0.0  26.0     0.0     0.0   \n",
              "3              0.0     1.0       1.0  28.0     1.0     0.0   \n",
              "4              0.0     0.0       0.0  29.0     1.0     0.0   \n",
              "\n",
              "   HeartDiseaseorAttack  PhysActivity  Fruits  Veggies  HvyAlcoholConsump  \\\n",
              "0                   0.0           1.0     0.0      1.0                0.0   \n",
              "1                   0.0           0.0     1.0      0.0                0.0   \n",
              "2                   0.0           1.0     1.0      1.0                0.0   \n",
              "3                   0.0           1.0     1.0      1.0                0.0   \n",
              "4                   0.0           1.0     1.0      1.0                0.0   \n",
              "\n",
              "   NoDocbcCost  GenHlth  MentHlth  PhysHlth  DiffWalk  Sex   Age  Education  \\\n",
              "0          0.0      3.0       5.0      30.0       0.0  1.0   4.0        6.0   \n",
              "1          0.0      3.0       0.0       0.0       0.0  1.0  12.0        6.0   \n",
              "2          0.0      1.0       0.0      10.0       0.0  1.0  13.0        6.0   \n",
              "3          0.0      3.0       0.0       3.0       0.0  1.0  11.0        6.0   \n",
              "4          0.0      2.0       0.0       0.0       0.0  0.0   8.0        5.0   \n",
              "\n",
              "   Income  \n",
              "0     8.0  \n",
              "1     8.0  \n",
              "2     8.0  \n",
              "3     8.0  \n",
              "4     8.0  "
            ],
            "text/html": [
              "\n",
              "  <div id=\"df-4af37028-404f-4d83-bf71-d953c3215c12\" class=\"colab-df-container\">\n",
              "    <div>\n",
              "<style scoped>\n",
              "    .dataframe tbody tr th:only-of-type {\n",
              "        vertical-align: middle;\n",
              "    }\n",
              "\n",
              "    .dataframe tbody tr th {\n",
              "        vertical-align: top;\n",
              "    }\n",
              "\n",
              "    .dataframe thead th {\n",
              "        text-align: right;\n",
              "    }\n",
              "</style>\n",
              "<table border=\"1\" class=\"dataframe\">\n",
              "  <thead>\n",
              "    <tr style=\"text-align: right;\">\n",
              "      <th></th>\n",
              "      <th>Diabetes_binary</th>\n",
              "      <th>HighBP</th>\n",
              "      <th>HighChol</th>\n",
              "      <th>BMI</th>\n",
              "      <th>Smoker</th>\n",
              "      <th>Stroke</th>\n",
              "      <th>HeartDiseaseorAttack</th>\n",
              "      <th>PhysActivity</th>\n",
              "      <th>Fruits</th>\n",
              "      <th>Veggies</th>\n",
              "      <th>HvyAlcoholConsump</th>\n",
              "      <th>NoDocbcCost</th>\n",
              "      <th>GenHlth</th>\n",
              "      <th>MentHlth</th>\n",
              "      <th>PhysHlth</th>\n",
              "      <th>DiffWalk</th>\n",
              "      <th>Sex</th>\n",
              "      <th>Age</th>\n",
              "      <th>Education</th>\n",
              "      <th>Income</th>\n",
              "    </tr>\n",
              "  </thead>\n",
              "  <tbody>\n",
              "    <tr>\n",
              "      <th>0</th>\n",
              "      <td>0.0</td>\n",
              "      <td>1.0</td>\n",
              "      <td>0.0</td>\n",
              "      <td>26.0</td>\n",
              "      <td>0.0</td>\n",
              "      <td>0.0</td>\n",
              "      <td>0.0</td>\n",
              "      <td>1.0</td>\n",
              "      <td>0.0</td>\n",
              "      <td>1.0</td>\n",
              "      <td>0.0</td>\n",
              "      <td>0.0</td>\n",
              "      <td>3.0</td>\n",
              "      <td>5.0</td>\n",
              "      <td>30.0</td>\n",
              "      <td>0.0</td>\n",
              "      <td>1.0</td>\n",
              "      <td>4.0</td>\n",
              "      <td>6.0</td>\n",
              "      <td>8.0</td>\n",
              "    </tr>\n",
              "    <tr>\n",
              "      <th>1</th>\n",
              "      <td>0.0</td>\n",
              "      <td>1.0</td>\n",
              "      <td>1.0</td>\n",
              "      <td>26.0</td>\n",
              "      <td>1.0</td>\n",
              "      <td>1.0</td>\n",
              "      <td>0.0</td>\n",
              "      <td>0.0</td>\n",
              "      <td>1.0</td>\n",
              "      <td>0.0</td>\n",
              "      <td>0.0</td>\n",
              "      <td>0.0</td>\n",
              "      <td>3.0</td>\n",
              "      <td>0.0</td>\n",
              "      <td>0.0</td>\n",
              "      <td>0.0</td>\n",
              "      <td>1.0</td>\n",
              "      <td>12.0</td>\n",
              "      <td>6.0</td>\n",
              "      <td>8.0</td>\n",
              "    </tr>\n",
              "    <tr>\n",
              "      <th>2</th>\n",
              "      <td>0.0</td>\n",
              "      <td>0.0</td>\n",
              "      <td>0.0</td>\n",
              "      <td>26.0</td>\n",
              "      <td>0.0</td>\n",
              "      <td>0.0</td>\n",
              "      <td>0.0</td>\n",
              "      <td>1.0</td>\n",
              "      <td>1.0</td>\n",
              "      <td>1.0</td>\n",
              "      <td>0.0</td>\n",
              "      <td>0.0</td>\n",
              "      <td>1.0</td>\n",
              "      <td>0.0</td>\n",
              "      <td>10.0</td>\n",
              "      <td>0.0</td>\n",
              "      <td>1.0</td>\n",
              "      <td>13.0</td>\n",
              "      <td>6.0</td>\n",
              "      <td>8.0</td>\n",
              "    </tr>\n",
              "    <tr>\n",
              "      <th>3</th>\n",
              "      <td>0.0</td>\n",
              "      <td>1.0</td>\n",
              "      <td>1.0</td>\n",
              "      <td>28.0</td>\n",
              "      <td>1.0</td>\n",
              "      <td>0.0</td>\n",
              "      <td>0.0</td>\n",
              "      <td>1.0</td>\n",
              "      <td>1.0</td>\n",
              "      <td>1.0</td>\n",
              "      <td>0.0</td>\n",
              "      <td>0.0</td>\n",
              "      <td>3.0</td>\n",
              "      <td>0.0</td>\n",
              "      <td>3.0</td>\n",
              "      <td>0.0</td>\n",
              "      <td>1.0</td>\n",
              "      <td>11.0</td>\n",
              "      <td>6.0</td>\n",
              "      <td>8.0</td>\n",
              "    </tr>\n",
              "    <tr>\n",
              "      <th>4</th>\n",
              "      <td>0.0</td>\n",
              "      <td>0.0</td>\n",
              "      <td>0.0</td>\n",
              "      <td>29.0</td>\n",
              "      <td>1.0</td>\n",
              "      <td>0.0</td>\n",
              "      <td>0.0</td>\n",
              "      <td>1.0</td>\n",
              "      <td>1.0</td>\n",
              "      <td>1.0</td>\n",
              "      <td>0.0</td>\n",
              "      <td>0.0</td>\n",
              "      <td>2.0</td>\n",
              "      <td>0.0</td>\n",
              "      <td>0.0</td>\n",
              "      <td>0.0</td>\n",
              "      <td>0.0</td>\n",
              "      <td>8.0</td>\n",
              "      <td>5.0</td>\n",
              "      <td>8.0</td>\n",
              "    </tr>\n",
              "  </tbody>\n",
              "</table>\n",
              "</div>\n",
              "    <div class=\"colab-df-buttons\">\n",
              "\n",
              "  <div class=\"colab-df-container\">\n",
              "    <button class=\"colab-df-convert\" onclick=\"convertToInteractive('df-4af37028-404f-4d83-bf71-d953c3215c12')\"\n",
              "            title=\"Convert this dataframe to an interactive table.\"\n",
              "            style=\"display:none;\">\n",
              "\n",
              "  <svg xmlns=\"http://www.w3.org/2000/svg\" height=\"24px\" viewBox=\"0 -960 960 960\">\n",
              "    <path d=\"M120-120v-720h720v720H120Zm60-500h600v-160H180v160Zm220 220h160v-160H400v160Zm0 220h160v-160H400v160ZM180-400h160v-160H180v160Zm440 0h160v-160H620v160ZM180-180h160v-160H180v160Zm440 0h160v-160H620v160Z\"/>\n",
              "  </svg>\n",
              "    </button>\n",
              "\n",
              "  <style>\n",
              "    .colab-df-container {\n",
              "      display:flex;\n",
              "      gap: 12px;\n",
              "    }\n",
              "\n",
              "    .colab-df-convert {\n",
              "      background-color: #E8F0FE;\n",
              "      border: none;\n",
              "      border-radius: 50%;\n",
              "      cursor: pointer;\n",
              "      display: none;\n",
              "      fill: #1967D2;\n",
              "      height: 32px;\n",
              "      padding: 0 0 0 0;\n",
              "      width: 32px;\n",
              "    }\n",
              "\n",
              "    .colab-df-convert:hover {\n",
              "      background-color: #E2EBFA;\n",
              "      box-shadow: 0px 1px 2px rgba(60, 64, 67, 0.3), 0px 1px 3px 1px rgba(60, 64, 67, 0.15);\n",
              "      fill: #174EA6;\n",
              "    }\n",
              "\n",
              "    .colab-df-buttons div {\n",
              "      margin-bottom: 4px;\n",
              "    }\n",
              "\n",
              "    [theme=dark] .colab-df-convert {\n",
              "      background-color: #3B4455;\n",
              "      fill: #D2E3FC;\n",
              "    }\n",
              "\n",
              "    [theme=dark] .colab-df-convert:hover {\n",
              "      background-color: #434B5C;\n",
              "      box-shadow: 0px 1px 3px 1px rgba(0, 0, 0, 0.15);\n",
              "      filter: drop-shadow(0px 1px 2px rgba(0, 0, 0, 0.3));\n",
              "      fill: #FFFFFF;\n",
              "    }\n",
              "  </style>\n",
              "\n",
              "    <script>\n",
              "      const buttonEl =\n",
              "        document.querySelector('#df-4af37028-404f-4d83-bf71-d953c3215c12 button.colab-df-convert');\n",
              "      buttonEl.style.display =\n",
              "        google.colab.kernel.accessAllowed ? 'block' : 'none';\n",
              "\n",
              "      async function convertToInteractive(key) {\n",
              "        const element = document.querySelector('#df-4af37028-404f-4d83-bf71-d953c3215c12');\n",
              "        const dataTable =\n",
              "          await google.colab.kernel.invokeFunction('convertToInteractive',\n",
              "                                                    [key], {});\n",
              "        if (!dataTable) return;\n",
              "\n",
              "        const docLinkHtml = 'Like what you see? Visit the ' +\n",
              "          '<a target=\"_blank\" href=https://colab.research.google.com/notebooks/data_table.ipynb>data table notebook</a>'\n",
              "          + ' to learn more about interactive tables.';\n",
              "        element.innerHTML = '';\n",
              "        dataTable['output_type'] = 'display_data';\n",
              "        await google.colab.output.renderOutput(dataTable, element);\n",
              "        const docLink = document.createElement('div');\n",
              "        docLink.innerHTML = docLinkHtml;\n",
              "        element.appendChild(docLink);\n",
              "      }\n",
              "    </script>\n",
              "  </div>\n",
              "\n",
              "\n",
              "<div id=\"df-27799d13-d45a-4236-ba6a-a553c5f61854\">\n",
              "  <button class=\"colab-df-quickchart\" onclick=\"quickchart('df-27799d13-d45a-4236-ba6a-a553c5f61854')\"\n",
              "            title=\"Suggest charts\"\n",
              "            style=\"display:none;\">\n",
              "\n",
              "<svg xmlns=\"http://www.w3.org/2000/svg\" height=\"24px\"viewBox=\"0 0 24 24\"\n",
              "     width=\"24px\">\n",
              "    <g>\n",
              "        <path d=\"M19 3H5c-1.1 0-2 .9-2 2v14c0 1.1.9 2 2 2h14c1.1 0 2-.9 2-2V5c0-1.1-.9-2-2-2zM9 17H7v-7h2v7zm4 0h-2V7h2v10zm4 0h-2v-4h2v4z\"/>\n",
              "    </g>\n",
              "</svg>\n",
              "  </button>\n",
              "\n",
              "<style>\n",
              "  .colab-df-quickchart {\n",
              "      --bg-color: #E8F0FE;\n",
              "      --fill-color: #1967D2;\n",
              "      --hover-bg-color: #E2EBFA;\n",
              "      --hover-fill-color: #174EA6;\n",
              "      --disabled-fill-color: #AAA;\n",
              "      --disabled-bg-color: #DDD;\n",
              "  }\n",
              "\n",
              "  [theme=dark] .colab-df-quickchart {\n",
              "      --bg-color: #3B4455;\n",
              "      --fill-color: #D2E3FC;\n",
              "      --hover-bg-color: #434B5C;\n",
              "      --hover-fill-color: #FFFFFF;\n",
              "      --disabled-bg-color: #3B4455;\n",
              "      --disabled-fill-color: #666;\n",
              "  }\n",
              "\n",
              "  .colab-df-quickchart {\n",
              "    background-color: var(--bg-color);\n",
              "    border: none;\n",
              "    border-radius: 50%;\n",
              "    cursor: pointer;\n",
              "    display: none;\n",
              "    fill: var(--fill-color);\n",
              "    height: 32px;\n",
              "    padding: 0;\n",
              "    width: 32px;\n",
              "  }\n",
              "\n",
              "  .colab-df-quickchart:hover {\n",
              "    background-color: var(--hover-bg-color);\n",
              "    box-shadow: 0 1px 2px rgba(60, 64, 67, 0.3), 0 1px 3px 1px rgba(60, 64, 67, 0.15);\n",
              "    fill: var(--button-hover-fill-color);\n",
              "  }\n",
              "\n",
              "  .colab-df-quickchart-complete:disabled,\n",
              "  .colab-df-quickchart-complete:disabled:hover {\n",
              "    background-color: var(--disabled-bg-color);\n",
              "    fill: var(--disabled-fill-color);\n",
              "    box-shadow: none;\n",
              "  }\n",
              "\n",
              "  .colab-df-spinner {\n",
              "    border: 2px solid var(--fill-color);\n",
              "    border-color: transparent;\n",
              "    border-bottom-color: var(--fill-color);\n",
              "    animation:\n",
              "      spin 1s steps(1) infinite;\n",
              "  }\n",
              "\n",
              "  @keyframes spin {\n",
              "    0% {\n",
              "      border-color: transparent;\n",
              "      border-bottom-color: var(--fill-color);\n",
              "      border-left-color: var(--fill-color);\n",
              "    }\n",
              "    20% {\n",
              "      border-color: transparent;\n",
              "      border-left-color: var(--fill-color);\n",
              "      border-top-color: var(--fill-color);\n",
              "    }\n",
              "    30% {\n",
              "      border-color: transparent;\n",
              "      border-left-color: var(--fill-color);\n",
              "      border-top-color: var(--fill-color);\n",
              "      border-right-color: var(--fill-color);\n",
              "    }\n",
              "    40% {\n",
              "      border-color: transparent;\n",
              "      border-right-color: var(--fill-color);\n",
              "      border-top-color: var(--fill-color);\n",
              "    }\n",
              "    60% {\n",
              "      border-color: transparent;\n",
              "      border-right-color: var(--fill-color);\n",
              "    }\n",
              "    80% {\n",
              "      border-color: transparent;\n",
              "      border-right-color: var(--fill-color);\n",
              "      border-bottom-color: var(--fill-color);\n",
              "    }\n",
              "    90% {\n",
              "      border-color: transparent;\n",
              "      border-bottom-color: var(--fill-color);\n",
              "    }\n",
              "  }\n",
              "</style>\n",
              "\n",
              "  <script>\n",
              "    async function quickchart(key) {\n",
              "      const quickchartButtonEl =\n",
              "        document.querySelector('#' + key + ' button');\n",
              "      quickchartButtonEl.disabled = true;  // To prevent multiple clicks.\n",
              "      quickchartButtonEl.classList.add('colab-df-spinner');\n",
              "      try {\n",
              "        const charts = await google.colab.kernel.invokeFunction(\n",
              "            'suggestCharts', [key], {});\n",
              "      } catch (error) {\n",
              "        console.error('Error during call to suggestCharts:', error);\n",
              "      }\n",
              "      quickchartButtonEl.classList.remove('colab-df-spinner');\n",
              "      quickchartButtonEl.classList.add('colab-df-quickchart-complete');\n",
              "    }\n",
              "    (() => {\n",
              "      let quickchartButtonEl =\n",
              "        document.querySelector('#df-27799d13-d45a-4236-ba6a-a553c5f61854 button');\n",
              "      quickchartButtonEl.style.display =\n",
              "        google.colab.kernel.accessAllowed ? 'block' : 'none';\n",
              "    })();\n",
              "  </script>\n",
              "</div>\n",
              "    </div>\n",
              "  </div>\n"
            ]
          },
          "metadata": {},
          "execution_count": 12
        }
      ]
    },
    {
      "cell_type": "code",
      "source": [
        "X = newdf.values[:, 1:]\n",
        "y = newdf.values[:, 0]"
      ],
      "metadata": {
        "id": "HebNFQmiVUuu"
      },
      "execution_count": 13,
      "outputs": []
    },
    {
      "cell_type": "code",
      "source": [
        "train_X, X_temp, train_y, y_temp = train_test_split(X, y, test_size=0.3, random_state=42)\n",
        "X_val,test_X, y_val, test_y = train_test_split(X_temp, y_temp, test_size=0.5, random_state=42)"
      ],
      "metadata": {
        "id": "VWUQ6aafVTFg"
      },
      "execution_count": 14,
      "outputs": []
    },
    {
      "cell_type": "markdown",
      "source": [
        "#### Visualizations"
      ],
      "metadata": {
        "id": "JpxdUkNeJKJ3"
      }
    },
    {
      "cell_type": "code",
      "source": [
        "sns.countplot(x=newdf['Diabetes_binary'].replace({0: 'No Diabetes', 1: 'Diabetes'}), data=newdf)"
      ],
      "metadata": {
        "colab": {
          "base_uri": "https://localhost:8080/",
          "height": 467
        },
        "id": "OEMH031EJNyk",
        "outputId": "7c5eda59-2bb4-4dec-aeec-086bb6a76415"
      },
      "execution_count": 15,
      "outputs": [
        {
          "output_type": "execute_result",
          "data": {
            "text/plain": [
              "<Axes: xlabel='Diabetes_binary', ylabel='count'>"
            ]
          },
          "metadata": {},
          "execution_count": 15
        },
        {
          "output_type": "display_data",
          "data": {
            "text/plain": [
              "<Figure size 640x480 with 1 Axes>"
            ],
            "image/png": "[encoded data removed]"
          },
          "metadata": {}
        }
      ]
    },
    {
      "cell_type": "code",
      "source": [
        "def plotting(data2, x_column):\n",
        "    _df_plot = data2.groupby([x_column, df['Diabetes_binary'].replace({0: 'No Diabetes', 1: 'Diabetes'})]).size().reset_index().pivot(columns='Diabetes_binary', index=x_column, values=0)\n",
        "\n",
        "    return _df_plot"
      ],
      "metadata": {
        "id": "cGo4cGg-J4Z7"
      },
      "execution_count": 16,
      "outputs": []
    },
    {
      "cell_type": "code",
      "source": [
        "cols = ['HighBP', 'HighChol','Smoker',\n",
        "       'Stroke', 'HeartDiseaseorAttack', 'PhysActivity','NoDocbcCost', 'DiffWalk']\n",
        "\n",
        "fig, ax = plt.subplots(2, 4, figsize=(20,20))\n",
        "axe = ax.ravel()\n",
        "\n",
        "c = len(cols)\n",
        "\n",
        "for i in range(c):\n",
        "    plotting(newdf, cols[i]).plot(kind='bar',stacked=True, ax=axe[i])\n",
        "    axe[i].set_xlabel(cols[i])\n",
        "\n",
        "fig.show()"
      ],
      "metadata": {
        "colab": {
          "base_uri": "https://localhost:8080/",
          "height": 1000
        },
        "id": "S9UDwkUoJjRh",
        "outputId": "02cf4bac-e64a-4d1d-fa87-b99e5d0ba0ad"
      },
      "execution_count": 17,
      "outputs": [
        {
          "output_type": "display_data",
          "data": {
            "text/plain": [
              "<Figure size 2000x2000 with 8 Axes>"
            ],
            "image/png": "[encoded data removed]"
          },
          "metadata": {}
        }
      ]
    },
    {
      "cell_type": "code",
      "source": [
        "plt.figure(figsize=(10, 6))\n",
        "sns.countplot(x=newdf['Sex'].replace({0: 'Female', 1: 'Male'}), hue=newdf['Diabetes_binary'].replace({0: 'No Diabetes', 1: 'Diabetes'}), data=newdf)\n",
        "plt.title('Grouped Bar Chart for Sex and Diabetes_binary')\n",
        "plt.xlabel('Sex')\n",
        "plt.ylabel('Count')\n",
        "plt.legend(title='Diabetes_binary')\n",
        "plt.show()"
      ],
      "metadata": {
        "colab": {
          "base_uri": "https://localhost:8080/",
          "height": 564
        },
        "id": "quthOPJTMPl9",
        "outputId": "9fc42e62-76be-4516-d3dc-15e4b6ae2121"
      },
      "execution_count": 18,
      "outputs": [
        {
          "output_type": "display_data",
          "data": {
            "text/plain": [
              "<Figure size 1000x600 with 1 Axes>"
            ],
            "image/png": "[encoded data removed]"
          },
          "metadata": {}
        }
      ]
    },
    {
      "cell_type": "markdown",
      "source": [
        "# Models"
      ],
      "metadata": {
        "id": "0YgcxDpGdqzJ"
      }
    },
    {
      "cell_type": "markdown",
      "source": [
        "\n",
        "\n",
        "```\n",
        "We wil be using a Logistic regression model as our baseline to compare the accuracy metrics, time-taken to train and cost of training\n",
        "```\n",
        "\n"
      ],
      "metadata": {
        "id": "kQIAkJrodxB8"
      }
    },
    {
      "cell_type": "markdown",
      "source": [
        "#### Logistic regression with Elastic Nets"
      ],
      "metadata": {
        "id": "ld3Jjt6Yd-EY"
      }
    },
    {
      "cell_type": "markdown",
      "source": [
        "\n",
        "\n",
        "```\n",
        "Elastic net is a combination of L1 and L2 regularization to overcome the limitations of both regularization techniques.\n",
        "q here is the penalty term. When it is set 0, Elastic net is the equivalent of L2 regularization. When it is set to 1,\n",
        "Elastic Net is the equivalent of L1 regularization\n",
        "```\n",
        "\n"
      ],
      "metadata": {
        "id": "72YMify3eRpd"
      }
    },
    {
      "cell_type": "code",
      "source": [
        "@dataclass\n",
        "class LogisticRegression:\n",
        "\n",
        "    datapath: pd.DataFrame\n",
        "    learning_rate: float\n",
        "    max_iterations: int\n",
        "    alpha: float  = 1\n",
        "    epsilon: float = 0.0005\n",
        "    q: float = 1.0    # New parameter for Elastic Net with default value set to L1 regularization\n",
        "    global train_X, train_y,test_X,test_y\n",
        "\n",
        "    def sigmoid(self, X):\n",
        "        return 1 / (1 + np.exp(-X.dot(self.theta)))\n",
        "\n",
        "    def cost_function(self, X, y):\n",
        "        sig = self.sigmoid(X)\n",
        "        epsilon = 1e-15\n",
        "        sig = np.clip(sig, epsilon, 1 - epsilon)\n",
        "        regularizer = self.alpha * np.sum(np.power(np.abs(self.theta),self.q))  # Elastic Net regularization term\n",
        "        cost = (1 / X.shape[0]) * (y * np.log(sig) + (1 - y) * np.log(1 - sig)) + regularizer\n",
        "        return -cost.sum()\n",
        "\n",
        "    def cost_derivative(self, X, y):\n",
        "        sig = self.sigmoid(X)\n",
        "        grad = (sig - y).dot(X)\n",
        "        regularizer = self.alpha * np.sign(self.theta)\n",
        "        grad += regularizer\n",
        "        return grad\n",
        "\n",
        "    def gradient_descent(self, X, y):\n",
        "        self.errors = []\n",
        "        prev_error = float('inf')\n",
        "        for i in tqdm(range(self.max_iterations), colour='red'):\n",
        "            self.theta -= self.learning_rate * self.cost_derivative(X, y)\n",
        "            error = self.cost_function(X, y)\n",
        "            self.errors.append(error)\n",
        "            if abs(prev_error - error) < self.epsilon:\n",
        "                print('Model stopped')\n",
        "                break\n",
        "            prev_error = error\n",
        "\n",
        "    def fit(self):\n",
        "        self.theta = np.ones(train_X.shape[1])\n",
        "        self.gradient_descent(train_X, train_y)\n",
        "\n",
        "    def predict(self, X):\n",
        "        probability = self.sigmoid(X)\n",
        "        return (probability >= 0.5).astype(int)\n",
        "\n",
        "    def predict_proba(self, X):\n",
        "        probability = self.sigmoid(X)\n",
        "        return probability"
      ],
      "metadata": {
        "id": "BOMYEpXndRCJ"
      },
      "execution_count": 19,
      "outputs": []
    },
    {
      "cell_type": "code",
      "source": [
        "start_time = time.time()\n",
        "lr = LogisticRegression(datapath = newdf, epsilon = 0.00005, learning_rate=0.1e-4, max_iterations=10000,q=0.8)\n",
        "lr.fit()\n",
        "end_time = time.time()"
      ],
      "metadata": {
        "colab": {
          "base_uri": "https://localhost:8080/"
        },
        "id": "sCZKVfrZa01G",
        "outputId": "fde3e718-bc17-4c53-b68b-4cb60cb8f6a0"
      },
      "execution_count": 20,
      "outputs": [
        {
          "output_type": "stream",
          "name": "stderr",
          "text": [
            "100%|\u001b[31m██████████\u001b[0m| 10000/10000 [00:38<00:00, 257.50it/s]\n"
          ]
        }
      ]
    },
    {
      "cell_type": "code",
      "source": [
        "elapsed_time = end_time - start_time\n",
        "print(f\"Execution time: {elapsed_time} seconds\")"
      ],
      "metadata": {
        "colab": {
          "base_uri": "https://localhost:8080/"
        },
        "id": "xiLYRW6iBe6Y",
        "outputId": "2809bfc5-ecb3-4e6f-bc2b-775f9eba9a40"
      },
      "execution_count": 21,
      "outputs": [
        {
          "output_type": "stream",
          "name": "stdout",
          "text": [
            "Execution time: 38.84209179878235 seconds\n"
          ]
        }
      ]
    },
    {
      "cell_type": "code",
      "source": [
        "lr.theta.round()"
      ],
      "metadata": {
        "colab": {
          "base_uri": "https://localhost:8080/"
        },
        "id": "nVDSNHIzjbd9",
        "outputId": "d7455e78-69a1-4bdc-c30d-7761da960331"
      },
      "execution_count": 22,
      "outputs": [
        {
          "output_type": "execute_result",
          "data": {
            "text/plain": [
              "array([ 65.,  38.,   5., -12.,   7.,  21., -19.,  -6., -12., -23., -11.,\n",
              "        15.,  -0.,   1.,  16.,   7.,   2., -20.,  -6.])"
            ]
          },
          "metadata": {},
          "execution_count": 22
        }
      ]
    },
    {
      "cell_type": "code",
      "source": [
        "predictions = lr.predict(X_val)\n",
        "cm = confusion_matrix(y_val, predictions)"
      ],
      "metadata": {
        "id": "AM1kjgmdwB_m"
      },
      "execution_count": 23,
      "outputs": []
    },
    {
      "cell_type": "code",
      "source": [
        "print(confusion_matrix(y_val,predictions))"
      ],
      "metadata": {
        "colab": {
          "base_uri": "https://localhost:8080/"
        },
        "outputId": "f3485118-4f46-4ff1-f8c5-4550de9786a9",
        "id": "Ibj6O_O2wB_m"
      },
      "execution_count": 24,
      "outputs": [
        {
          "output_type": "stream",
          "name": "stdout",
          "text": [
            "[[1404 3595]\n",
            " [ 148 5212]]\n"
          ]
        }
      ]
    },
    {
      "cell_type": "code",
      "source": [
        "print(classification_report(test_y,predictions))"
      ],
      "metadata": {
        "colab": {
          "base_uri": "https://localhost:8080/"
        },
        "id": "khoe_aQpwB_m",
        "outputId": "4513a067-aa0d-4a5b-b251-ce4b22594331"
      },
      "execution_count": 25,
      "outputs": [
        {
          "output_type": "stream",
          "name": "stdout",
          "text": [
            "              precision    recall  f1-score   support\n",
            "\n",
            "         0.0       0.51      0.16      0.24      5121\n",
            "         1.0       0.51      0.86      0.64      5238\n",
            "\n",
            "    accuracy                           0.51     10359\n",
            "   macro avg       0.51      0.51      0.44     10359\n",
            "weighted avg       0.51      0.51      0.44     10359\n",
            "\n"
          ]
        }
      ]
    },
    {
      "cell_type": "markdown",
      "source": [
        "#### Neural Networks"
      ],
      "metadata": {
        "id": "7eNqWFkCQDxk"
      }
    },
    {
      "cell_type": "code",
      "source": [
        "model = keras.Sequential([\n",
        "    layers.InputLayer(input_shape=(train_X.shape[1],)),\n",
        "    layers.Dense(512, activation='relu', kernel_regularizer=keras.regularizers.l2(0.01)),\n",
        "    layers.Dropout(0.5),\n",
        "    layers.Dense(128, activation='relu', kernel_regularizer=keras.regularizers.l2(0.01)),\n",
        "    layers.Dropout(0.5),\n",
        "    layers.Dense(64, activation='relu', kernel_regularizer=keras.regularizers.l2(0.01)),\n",
        "    layers.Dense(1, activation='sigmoid')\n",
        "])"
      ],
      "metadata": {
        "id": "-Z28gDxeGDKA"
      },
      "execution_count": 47,
      "outputs": []
    },
    {
      "cell_type": "code",
      "source": [
        "start_time2 = time.time()\n",
        "model.compile(optimizer='adam', loss='binary_crossentropy', metrics=['accuracy'])\n",
        "history = model.fit(train_X, train_y, epochs=10, validation_data=(X_val, y_val))\n",
        "end_time2 = time.time()"
      ],
      "metadata": {
        "colab": {
          "base_uri": "https://localhost:8080/"
        },
        "id": "hT3SJ58UQInK",
        "outputId": "11c6bef3-8418-42f7-f26a-da5f1f3d7b19"
      },
      "execution_count": 48,
      "outputs": [
        {
          "output_type": "stream",
          "name": "stdout",
          "text": [
            "Epoch 1/10\n",
            "1511/1511 [==============================] - 17s 10ms/step - loss: 1.0276 - accuracy: 0.6660 - val_loss: 0.5952 - val_accuracy: 0.7249\n",
            "Epoch 2/10\n",
            "1511/1511 [==============================] - 10s 7ms/step - loss: 0.6033 - accuracy: 0.7091 - val_loss: 0.5713 - val_accuracy: 0.7339\n",
            "Epoch 3/10\n",
            "1511/1511 [==============================] - 7s 5ms/step - loss: 0.5889 - accuracy: 0.7135 - val_loss: 0.5549 - val_accuracy: 0.7418\n",
            "Epoch 4/10\n",
            "1511/1511 [==============================] - 8s 5ms/step - loss: 0.5852 - accuracy: 0.7170 - val_loss: 0.5593 - val_accuracy: 0.7378\n",
            "Epoch 5/10\n",
            "1511/1511 [==============================] - 8s 5ms/step - loss: 0.5818 - accuracy: 0.7164 - val_loss: 0.5684 - val_accuracy: 0.7331\n",
            "Epoch 6/10\n",
            "1511/1511 [==============================] - 7s 5ms/step - loss: 0.5807 - accuracy: 0.7206 - val_loss: 0.5501 - val_accuracy: 0.7424\n",
            "Epoch 7/10\n",
            "1511/1511 [==============================] - 8s 5ms/step - loss: 0.5781 - accuracy: 0.7200 - val_loss: 0.5467 - val_accuracy: 0.7442\n",
            "Epoch 8/10\n",
            "1511/1511 [==============================] - 8s 5ms/step - loss: 0.5774 - accuracy: 0.7218 - val_loss: 0.5544 - val_accuracy: 0.7437\n",
            "Epoch 9/10\n",
            "1511/1511 [==============================] - 8s 5ms/step - loss: 0.5745 - accuracy: 0.7241 - val_loss: 0.5565 - val_accuracy: 0.7326\n",
            "Epoch 10/10\n",
            "1511/1511 [==============================] - 7s 5ms/step - loss: 0.5755 - accuracy: 0.7208 - val_loss: 0.5539 - val_accuracy: 0.7382\n"
          ]
        }
      ]
    },
    {
      "cell_type": "code",
      "source": [
        "elapsed_time2 = end_time2 - start_time2\n",
        "print(f\"Execution time: {elapsed_time2} seconds\")"
      ],
      "metadata": {
        "colab": {
          "base_uri": "https://localhost:8080/"
        },
        "id": "UDKky57oCxFu",
        "outputId": "4c4c8b89-750e-41ba-d35f-d2d874825bc0"
      },
      "execution_count": 49,
      "outputs": [
        {
          "output_type": "stream",
          "name": "stdout",
          "text": [
            "Execution time: 143.46880888938904 seconds\n"
          ]
        }
      ]
    },
    {
      "cell_type": "code",
      "source": [
        "model.summary()"
      ],
      "metadata": {
        "colab": {
          "base_uri": "https://localhost:8080/"
        },
        "id": "I5BPlDXI0huv",
        "outputId": "b937e4d6-e644-48e0-bffb-aa654b8b9943"
      },
      "execution_count": 50,
      "outputs": [
        {
          "output_type": "stream",
          "name": "stdout",
          "text": [
            "Model: \"sequential_3\"\n",
            "_________________________________________________________________\n",
            " Layer (type)                Output Shape              Param #   \n",
            "=================================================================\n",
            " dense_12 (Dense)            (None, 512)               10240     \n",
            "                                                                 \n",
            " dropout_6 (Dropout)         (None, 512)               0         \n",
            "                                                                 \n",
            " dense_13 (Dense)            (None, 128)               65664     \n",
            "                                                                 \n",
            " dropout_7 (Dropout)         (None, 128)               0         \n",
            "                                                                 \n",
            " dense_14 (Dense)            (None, 64)                8256      \n",
            "                                                                 \n",
            " dense_15 (Dense)            (None, 1)                 65        \n",
            "                                                                 \n",
            "=================================================================\n",
            "Total params: 84225 (329.00 KB)\n",
            "Trainable params: 84225 (329.00 KB)\n",
            "Non-trainable params: 0 (0.00 Byte)\n",
            "_________________________________________________________________\n"
          ]
        }
      ]
    },
    {
      "cell_type": "markdown",
      "source": [
        "# Bias Variance Tradeoff"
      ],
      "metadata": {
        "id": "jv296eyEEWkW"
      }
    },
    {
      "cell_type": "markdown",
      "source": [
        "#### For logistic regression"
      ],
      "metadata": {
        "id": "hA_LAC5YEZv1"
      }
    },
    {
      "cell_type": "code",
      "source": [
        "def bias_variance_decomp(y_true,y_pred):\n",
        "  variance = np.sum((y_pred-np.mean(y_pred))**2)/y_pred.shape[0]\n",
        "  bias = np.power(np.sum((y_pred - y_true)**2),0.5)/y_pred.shape[0]\n",
        "  return bias, variance"
      ],
      "metadata": {
        "id": "RCVhrfBG9ZKQ"
      },
      "execution_count": 51,
      "outputs": []
    },
    {
      "cell_type": "code",
      "source": [
        "iters = [5,10,20,50,100,200,500,1000,2000]\n",
        "var,bias = [],[]\n",
        "for i in iters:\n",
        "  lr = LogisticRegression(datapath = newdf, epsilon = 0.00005, learning_rate=0.1e-4, max_iterations=i,q=0.8)\n",
        "  lr.fit()\n",
        "  y_pred = lr.predict(test_X)\n",
        "  b,v = bias_variance_decomp(test_y,y_pred)\n",
        "  var.append(v)\n",
        "  bias.append(b)"
      ],
      "metadata": {
        "colab": {
          "base_uri": "https://localhost:8080/"
        },
        "id": "3EQRBMK89_mt",
        "outputId": "b80aa996-e0af-4b23-d320-83b440f9e60e"
      },
      "execution_count": 52,
      "outputs": [
        {
          "output_type": "stream",
          "name": "stderr",
          "text": [
            "100%|\u001b[31m██████████\u001b[0m| 5/5 [00:00<00:00, 106.85it/s]\n",
            "100%|\u001b[31m██████████\u001b[0m| 10/10 [00:00<00:00, 229.47it/s]\n",
            "100%|\u001b[31m██████████\u001b[0m| 20/20 [00:00<00:00, 216.30it/s]\n",
            "100%|\u001b[31m██████████\u001b[0m| 50/50 [00:00<00:00, 277.59it/s]\n",
            "100%|\u001b[31m██████████\u001b[0m| 100/100 [00:00<00:00, 261.92it/s]\n",
            "100%|\u001b[31m██████████\u001b[0m| 200/200 [00:00<00:00, 263.15it/s]\n",
            "100%|\u001b[31m██████████\u001b[0m| 500/500 [00:01<00:00, 317.48it/s]\n",
            "100%|\u001b[31m██████████\u001b[0m| 1000/1000 [00:03<00:00, 253.74it/s]\n",
            "100%|\u001b[31m██████████\u001b[0m| 2000/2000 [00:07<00:00, 253.25it/s]\n"
          ]
        }
      ]
    },
    {
      "cell_type": "code",
      "source": [
        "plt.figure(figsize=(10, 6))\n",
        "plt.plot(iters, bias, label='Bias', marker='o')\n",
        "plt.plot(iters, var, label='Variance', marker='o')\n",
        "plt.xlabel('Model Complexity')\n",
        "plt.ylabel('Error')\n",
        "plt.title('Bias-Variance Tradeoff')\n",
        "plt.legend()\n",
        "plt.show()"
      ],
      "metadata": {
        "colab": {
          "base_uri": "https://localhost:8080/",
          "height": 564
        },
        "id": "Xwl8_tfh-u6j",
        "outputId": "005d5658-d76c-4efc-9c6e-4c69ec5ed50e"
      },
      "execution_count": 53,
      "outputs": [
        {
          "output_type": "display_data",
          "data": {
            "text/plain": [
              "<Figure size 1000x600 with 1 Axes>"
            ],
            "image/png": "[encoded data removed]"
          },
          "metadata": {}
        }
      ]
    },
    {
      "cell_type": "markdown",
      "source": [
        "#### For Neural Networks"
      ],
      "metadata": {
        "id": "x5gDMyz4EeSV"
      }
    },
    {
      "cell_type": "code",
      "source": [
        "plt.plot(history.history['accuracy'])\n",
        "plt.plot(history.history['val_accuracy'])\n",
        "plt.title('Model accuracy')\n",
        "plt.xlabel('Epoch')\n",
        "plt.ylabel('Accuracy')\n",
        "plt.legend(['Train', 'Validation'], loc='upper left')\n",
        "plt.show()\n",
        "\n",
        "plt.plot(history.history['loss'])\n",
        "plt.plot(history.history['val_loss'])\n",
        "plt.title('Model loss')\n",
        "plt.xlabel('Epoch')\n",
        "plt.ylabel('Loss')\n",
        "plt.legend(['Train', 'Validation'], loc='upper left')\n",
        "plt.show()"
      ],
      "metadata": {
        "colab": {
          "base_uri": "https://localhost:8080/",
          "height": 927
        },
        "id": "q4fhyHuFJ41q",
        "outputId": "af700554-f1c2-4f8a-b211-9bc2ed1155ef"
      },
      "execution_count": 54,
      "outputs": [
        {
          "output_type": "display_data",
          "data": {
            "text/plain": [
              "<Figure size 640x480 with 1 Axes>"
            ],
            "image/png": "[encoded data removed]"
          },
          "metadata": {}
        },
        {
          "output_type": "display_data",
          "data": {
            "text/plain": [
              "<Figure size 640x480 with 1 Axes>"
            ],
            "image/png": "[encoded data removed]"
          },
          "metadata": {}
        }
      ]
    },
    {
      "cell_type": "markdown",
      "source": [
        "# Model Evaluation"
      ],
      "metadata": {
        "id": "zTDce7pTjtVb"
      }
    },
    {
      "cell_type": "markdown",
      "source": [
        "#### For Logistic with Elastic Nets"
      ],
      "metadata": {
        "id": "sGzj3WzioCSN"
      }
    },
    {
      "cell_type": "code",
      "source": [
        "predictions = lr.predict(test_X)\n",
        "cm = confusion_matrix(test_y, predictions)"
      ],
      "metadata": {
        "id": "S-HvJBdDdnXC"
      },
      "execution_count": 55,
      "outputs": []
    },
    {
      "cell_type": "code",
      "source": [
        "print(confusion_matrix(test_y,predictions))"
      ],
      "metadata": {
        "colab": {
          "base_uri": "https://localhost:8080/"
        },
        "id": "mIhOygemw5b6",
        "outputId": "b5446597-65c8-4313-c867-eb70be34bae0"
      },
      "execution_count": 56,
      "outputs": [
        {
          "output_type": "stream",
          "name": "stdout",
          "text": [
            "[[1274 3847]\n",
            " [ 104 5134]]\n"
          ]
        }
      ]
    },
    {
      "cell_type": "code",
      "source": [
        "print(classification_report(test_y,predictions))"
      ],
      "metadata": {
        "colab": {
          "base_uri": "https://localhost:8080/"
        },
        "id": "GiZzW2o4v4VU",
        "outputId": "2f956d24-090e-44c5-f749-ff87139ce961"
      },
      "execution_count": 57,
      "outputs": [
        {
          "output_type": "stream",
          "name": "stdout",
          "text": [
            "              precision    recall  f1-score   support\n",
            "\n",
            "         0.0       0.92      0.25      0.39      5121\n",
            "         1.0       0.57      0.98      0.72      5238\n",
            "\n",
            "    accuracy                           0.62     10359\n",
            "   macro avg       0.75      0.61      0.56     10359\n",
            "weighted avg       0.75      0.62      0.56     10359\n",
            "\n"
          ]
        }
      ]
    },
    {
      "cell_type": "code",
      "source": [
        "logi_cost = train_cost(elapsed_time)\n",
        "print(f\"Cost of training: {logi_cost} $\")"
      ],
      "metadata": {
        "colab": {
          "base_uri": "https://localhost:8080/"
        },
        "id": "4RZvbMa_KN19",
        "outputId": "5736285e-87a6-4967-f3c6-f8ca63272d1e"
      },
      "execution_count": 58,
      "outputs": [
        {
          "output_type": "stream",
          "name": "stdout",
          "text": [
            "Cost of training: 1.564142940669138 $\n"
          ]
        }
      ]
    },
    {
      "cell_type": "markdown",
      "source": [
        "#### For Neural Networks"
      ],
      "metadata": {
        "id": "_0JRL5Ilgd3V"
      }
    },
    {
      "cell_type": "code",
      "source": [
        "y_pred_prob = model.predict(test_X)\n",
        "pred = (y_pred_prob >= 0.5).astype(int)"
      ],
      "metadata": {
        "colab": {
          "base_uri": "https://localhost:8080/"
        },
        "id": "-dvzEARcgg-u",
        "outputId": "53f3b571-6462-4ce7-9a3d-38f195277845"
      },
      "execution_count": 59,
      "outputs": [
        {
          "output_type": "stream",
          "name": "stdout",
          "text": [
            "324/324 [==============================] - 1s 2ms/step\n"
          ]
        }
      ]
    },
    {
      "cell_type": "code",
      "source": [
        "print(confusion_matrix(test_y,pred))"
      ],
      "metadata": {
        "colab": {
          "base_uri": "https://localhost:8080/"
        },
        "id": "OLbK8LoNvtOo",
        "outputId": "01c269dc-0c17-4a0a-c297-c9562ae5dd9c"
      },
      "execution_count": 60,
      "outputs": [
        {
          "output_type": "stream",
          "name": "stdout",
          "text": [
            "[[3265 1856]\n",
            " [ 848 4390]]\n"
          ]
        }
      ]
    },
    {
      "cell_type": "code",
      "source": [
        "print(classification_report(test_y,pred))"
      ],
      "metadata": {
        "colab": {
          "base_uri": "https://localhost:8080/"
        },
        "id": "gkwLFVt2vk-i",
        "outputId": "5751a5f7-57d8-45de-b9b4-8841821623d0"
      },
      "execution_count": 61,
      "outputs": [
        {
          "output_type": "stream",
          "name": "stdout",
          "text": [
            "              precision    recall  f1-score   support\n",
            "\n",
            "         0.0       0.79      0.64      0.71      5121\n",
            "         1.0       0.70      0.84      0.76      5238\n",
            "\n",
            "    accuracy                           0.74     10359\n",
            "   macro avg       0.75      0.74      0.74     10359\n",
            "weighted avg       0.75      0.74      0.74     10359\n",
            "\n"
          ]
        }
      ]
    },
    {
      "cell_type": "code",
      "source": [
        "nn_cost = train_cost(elapsed_time2)\n",
        "print(f\"Cost of training: {nn_cost} $\")"
      ],
      "metadata": {
        "colab": {
          "base_uri": "https://localhost:8080/"
        },
        "id": "2WZIBW9mKgjN",
        "outputId": "3758ba2f-6353-411a-d3de-a383dcd827b7"
      },
      "execution_count": 62,
      "outputs": [
        {
          "output_type": "stream",
          "name": "stdout",
          "text": [
            "Cost of training: 1.57530254256593 $\n"
          ]
        }
      ]
    },
    {
      "cell_type": "code",
      "source": [
        "model_names = ['Logistic', 'NN']\n",
        "metrics = ['Precision', 'Recall', 'Accuracy', 'Time', 'Cost']\n",
        "model_a_metrics = [precision_score(test_y,predictions),recall_score(test_y,predictions),accuracy_score(test_y,predictions),elapsed_time,logi_cost]\n",
        "model_b_metrics = [precision_score(test_y,pred),recall_score(test_y,pred),accuracy_score(test_y,pred),elapsed_time2,nn_cost]\n",
        "data = {'Model': model_names,}\n",
        "for i, metric in enumerate(metrics):\n",
        "  data[metric] = [model_a_metrics[i], model_b_metrics[i]]\n",
        "results = pd.DataFrame(data)"
      ],
      "metadata": {
        "id": "9EcqUciqMZL8"
      },
      "execution_count": 63,
      "outputs": []
    },
    {
      "cell_type": "code",
      "source": [
        "results.head()"
      ],
      "metadata": {
        "colab": {
          "base_uri": "https://localhost:8080/",
          "height": 112
        },
        "id": "OaPKz_PmNPvW",
        "outputId": "f6b07c3c-fd01-4980-a34a-437b663eed13"
      },
      "execution_count": 64,
      "outputs": [
        {
          "output_type": "execute_result",
          "data": {
            "text/plain": [
              "      Model  Precision    Recall  Accuracy        Time      Cost\n",
              "0  Logistic   0.571651  0.980145  0.618593   38.842092  1.564143\n",
              "1        NN   0.702850  0.838106  0.738971  143.468809  1.575303"
            ],
            "text/html": [
              "\n",
              "  <div id=\"df-0e0bd6e9-ac8d-4817-ac62-2c7eae4c5ad9\" class=\"colab-df-container\">\n",
              "    <div>\n",
              "<style scoped>\n",
              "    .dataframe tbody tr th:only-of-type {\n",
              "        vertical-align: middle;\n",
              "    }\n",
              "\n",
              "    .dataframe tbody tr th {\n",
              "        vertical-align: top;\n",
              "    }\n",
              "\n",
              "    .dataframe thead th {\n",
              "        text-align: right;\n",
              "    }\n",
              "</style>\n",
              "<table border=\"1\" class=\"dataframe\">\n",
              "  <thead>\n",
              "    <tr style=\"text-align: right;\">\n",
              "      <th></th>\n",
              "      <th>Model</th>\n",
              "      <th>Precision</th>\n",
              "      <th>Recall</th>\n",
              "      <th>Accuracy</th>\n",
              "      <th>Time</th>\n",
              "      <th>Cost</th>\n",
              "    </tr>\n",
              "  </thead>\n",
              "  <tbody>\n",
              "    <tr>\n",
              "      <th>0</th>\n",
              "      <td>Logistic</td>\n",
              "      <td>0.571651</td>\n",
              "      <td>0.980145</td>\n",
              "      <td>0.618593</td>\n",
              "      <td>38.842092</td>\n",
              "      <td>1.564143</td>\n",
              "    </tr>\n",
              "    <tr>\n",
              "      <th>1</th>\n",
              "      <td>NN</td>\n",
              "      <td>0.702850</td>\n",
              "      <td>0.838106</td>\n",
              "      <td>0.738971</td>\n",
              "      <td>143.468809</td>\n",
              "      <td>1.575303</td>\n",
              "    </tr>\n",
              "  </tbody>\n",
              "</table>\n",
              "</div>\n",
              "    <div class=\"colab-df-buttons\">\n",
              "\n",
              "  <div class=\"colab-df-container\">\n",
              "    <button class=\"colab-df-convert\" onclick=\"convertToInteractive('df-0e0bd6e9-ac8d-4817-ac62-2c7eae4c5ad9')\"\n",
              "            title=\"Convert this dataframe to an interactive table.\"\n",
              "            style=\"display:none;\">\n",
              "\n",
              "  <svg xmlns=\"http://www.w3.org/2000/svg\" height=\"24px\" viewBox=\"0 -960 960 960\">\n",
              "    <path d=\"M120-120v-720h720v720H120Zm60-500h600v-160H180v160Zm220 220h160v-160H400v160Zm0 220h160v-160H400v160ZM180-400h160v-160H180v160Zm440 0h160v-160H620v160ZM180-180h160v-160H180v160Zm440 0h160v-160H620v160Z\"/>\n",
              "  </svg>\n",
              "    </button>\n",
              "\n",
              "  <style>\n",
              "    .colab-df-container {\n",
              "      display:flex;\n",
              "      gap: 12px;\n",
              "    }\n",
              "\n",
              "    .colab-df-convert {\n",
              "      background-color: #E8F0FE;\n",
              "      border: none;\n",
              "      border-radius: 50%;\n",
              "      cursor: pointer;\n",
              "      display: none;\n",
              "      fill: #1967D2;\n",
              "      height: 32px;\n",
              "      padding: 0 0 0 0;\n",
              "      width: 32px;\n",
              "    }\n",
              "\n",
              "    .colab-df-convert:hover {\n",
              "      background-color: #E2EBFA;\n",
              "      box-shadow: 0px 1px 2px rgba(60, 64, 67, 0.3), 0px 1px 3px 1px rgba(60, 64, 67, 0.15);\n",
              "      fill: #174EA6;\n",
              "    }\n",
              "\n",
              "    .colab-df-buttons div {\n",
              "      margin-bottom: 4px;\n",
              "    }\n",
              "\n",
              "    [theme=dark] .colab-df-convert {\n",
              "      background-color: #3B4455;\n",
              "      fill: #D2E3FC;\n",
              "    }\n",
              "\n",
              "    [theme=dark] .colab-df-convert:hover {\n",
              "      background-color: #434B5C;\n",
              "      box-shadow: 0px 1px 3px 1px rgba(0, 0, 0, 0.15);\n",
              "      filter: drop-shadow(0px 1px 2px rgba(0, 0, 0, 0.3));\n",
              "      fill: #FFFFFF;\n",
              "    }\n",
              "  </style>\n",
              "\n",
              "    <script>\n",
              "      const buttonEl =\n",
              "        document.querySelector('#df-0e0bd6e9-ac8d-4817-ac62-2c7eae4c5ad9 button.colab-df-convert');\n",
              "      buttonEl.style.display =\n",
              "        google.colab.kernel.accessAllowed ? 'block' : 'none';\n",
              "\n",
              "      async function convertToInteractive(key) {\n",
              "        const element = document.querySelector('#df-0e0bd6e9-ac8d-4817-ac62-2c7eae4c5ad9');\n",
              "        const dataTable =\n",
              "          await google.colab.kernel.invokeFunction('convertToInteractive',\n",
              "                                                    [key], {});\n",
              "        if (!dataTable) return;\n",
              "\n",
              "        const docLinkHtml = 'Like what you see? Visit the ' +\n",
              "          '<a target=\"_blank\" href=https://colab.research.google.com/notebooks/data_table.ipynb>data table notebook</a>'\n",
              "          + ' to learn more about interactive tables.';\n",
              "        element.innerHTML = '';\n",
              "        dataTable['output_type'] = 'display_data';\n",
              "        await google.colab.output.renderOutput(dataTable, element);\n",
              "        const docLink = document.createElement('div');\n",
              "        docLink.innerHTML = docLinkHtml;\n",
              "        element.appendChild(docLink);\n",
              "      }\n",
              "    </script>\n",
              "  </div>\n",
              "\n",
              "\n",
              "<div id=\"df-833e56af-1871-4958-8027-71c3d1b33143\">\n",
              "  <button class=\"colab-df-quickchart\" onclick=\"quickchart('df-833e56af-1871-4958-8027-71c3d1b33143')\"\n",
              "            title=\"Suggest charts\"\n",
              "            style=\"display:none;\">\n",
              "\n",
              "<svg xmlns=\"http://www.w3.org/2000/svg\" height=\"24px\"viewBox=\"0 0 24 24\"\n",
              "     width=\"24px\">\n",
              "    <g>\n",
              "        <path d=\"M19 3H5c-1.1 0-2 .9-2 2v14c0 1.1.9 2 2 2h14c1.1 0 2-.9 2-2V5c0-1.1-.9-2-2-2zM9 17H7v-7h2v7zm4 0h-2V7h2v10zm4 0h-2v-4h2v4z\"/>\n",
              "    </g>\n",
              "</svg>\n",
              "  </button>\n",
              "\n",
              "<style>\n",
              "  .colab-df-quickchart {\n",
              "      --bg-color: #E8F0FE;\n",
              "      --fill-color: #1967D2;\n",
              "      --hover-bg-color: #E2EBFA;\n",
              "      --hover-fill-color: #174EA6;\n",
              "      --disabled-fill-color: #AAA;\n",
              "      --disabled-bg-color: #DDD;\n",
              "  }\n",
              "\n",
              "  [theme=dark] .colab-df-quickchart {\n",
              "      --bg-color: #3B4455;\n",
              "      --fill-color: #D2E3FC;\n",
              "      --hover-bg-color: #434B5C;\n",
              "      --hover-fill-color: #FFFFFF;\n",
              "      --disabled-bg-color: #3B4455;\n",
              "      --disabled-fill-color: #666;\n",
              "  }\n",
              "\n",
              "  .colab-df-quickchart {\n",
              "    background-color: var(--bg-color);\n",
              "    border: none;\n",
              "    border-radius: 50%;\n",
              "    cursor: pointer;\n",
              "    display: none;\n",
              "    fill: var(--fill-color);\n",
              "    height: 32px;\n",
              "    padding: 0;\n",
              "    width: 32px;\n",
              "  }\n",
              "\n",
              "  .colab-df-quickchart:hover {\n",
              "    background-color: var(--hover-bg-color);\n",
              "    box-shadow: 0 1px 2px rgba(60, 64, 67, 0.3), 0 1px 3px 1px rgba(60, 64, 67, 0.15);\n",
              "    fill: var(--button-hover-fill-color);\n",
              "  }\n",
              "\n",
              "  .colab-df-quickchart-complete:disabled,\n",
              "  .colab-df-quickchart-complete:disabled:hover {\n",
              "    background-color: var(--disabled-bg-color);\n",
              "    fill: var(--disabled-fill-color);\n",
              "    box-shadow: none;\n",
              "  }\n",
              "\n",
              "  .colab-df-spinner {\n",
              "    border: 2px solid var(--fill-color);\n",
              "    border-color: transparent;\n",
              "    border-bottom-color: var(--fill-color);\n",
              "    animation:\n",
              "      spin 1s steps(1) infinite;\n",
              "  }\n",
              "\n",
              "  @keyframes spin {\n",
              "    0% {\n",
              "      border-color: transparent;\n",
              "      border-bottom-color: var(--fill-color);\n",
              "      border-left-color: var(--fill-color);\n",
              "    }\n",
              "    20% {\n",
              "      border-color: transparent;\n",
              "      border-left-color: var(--fill-color);\n",
              "      border-top-color: var(--fill-color);\n",
              "    }\n",
              "    30% {\n",
              "      border-color: transparent;\n",
              "      border-left-color: var(--fill-color);\n",
              "      border-top-color: var(--fill-color);\n",
              "      border-right-color: var(--fill-color);\n",
              "    }\n",
              "    40% {\n",
              "      border-color: transparent;\n",
              "      border-right-color: var(--fill-color);\n",
              "      border-top-color: var(--fill-color);\n",
              "    }\n",
              "    60% {\n",
              "      border-color: transparent;\n",
              "      border-right-color: var(--fill-color);\n",
              "    }\n",
              "    80% {\n",
              "      border-color: transparent;\n",
              "      border-right-color: var(--fill-color);\n",
              "      border-bottom-color: var(--fill-color);\n",
              "    }\n",
              "    90% {\n",
              "      border-color: transparent;\n",
              "      border-bottom-color: var(--fill-color);\n",
              "    }\n",
              "  }\n",
              "</style>\n",
              "\n",
              "  <script>\n",
              "    async function quickchart(key) {\n",
              "      const quickchartButtonEl =\n",
              "        document.querySelector('#' + key + ' button');\n",
              "      quickchartButtonEl.disabled = true;  // To prevent multiple clicks.\n",
              "      quickchartButtonEl.classList.add('colab-df-spinner');\n",
              "      try {\n",
              "        const charts = await google.colab.kernel.invokeFunction(\n",
              "            'suggestCharts', [key], {});\n",
              "      } catch (error) {\n",
              "        console.error('Error during call to suggestCharts:', error);\n",
              "      }\n",
              "      quickchartButtonEl.classList.remove('colab-df-spinner');\n",
              "      quickchartButtonEl.classList.add('colab-df-quickchart-complete');\n",
              "    }\n",
              "    (() => {\n",
              "      let quickchartButtonEl =\n",
              "        document.querySelector('#df-833e56af-1871-4958-8027-71c3d1b33143 button');\n",
              "      quickchartButtonEl.style.display =\n",
              "        google.colab.kernel.accessAllowed ? 'block' : 'none';\n",
              "    })();\n",
              "  </script>\n",
              "</div>\n",
              "    </div>\n",
              "  </div>\n"
            ]
          },
          "metadata": {},
          "execution_count": 64
        }
      ]
    }
  ]
}